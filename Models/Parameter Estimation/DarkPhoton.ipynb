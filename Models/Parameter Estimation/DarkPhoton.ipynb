{
 "cells": [
  {
   "cell_type": "code",
   "execution_count": 1,
   "id": "67c7e1a8-e7f8-4dfb-9be7-74b02cfda206",
   "metadata": {},
   "outputs": [
    {
     "name": "stderr",
     "output_type": "stream",
     "text": [
      "/Users/laroccod/Desktop/FORESEE/Models/Parameter Estimation/../../src/foresee.py:1461: NumbaDeprecationWarning: The 'nopython' keyword argument was not supplied to the 'numba.jit' decorator. The implicit default value for this argument is currently False, but it will be changed to True in Numba 0.59.0. See https://numba.readthedocs.io/en/stable/reference/deprecation.html#deprecation-of-object-mode-fall-back-behaviour-when-using-jit for details.\n",
      "  def boostlist(arr_particle, arr_boost):\n"
     ]
    }
   ],
   "source": [
    "import sys, os\n",
    "src_path = \"../../\"\n",
    "sys.path.append(src_path)\n",
    "import numpy as np\n",
    "from src.foresee import Foresee, Utility, Model\n",
    "from matplotlib import pyplot as plt\n",
    "from tqdm import tqdm\n",
    "import pickle\n",
    "from scipy.special import factorial,gammaln\n",
    "from scipy import stats\n",
    "from parameter_estimation import *"
   ]
  },
  {
   "cell_type": "markdown",
   "id": "0f7973f4-b612-476c-b985-1cfa88495f2d",
   "metadata": {},
   "source": [
    "### Simulation / Detector Settings"
   ]
  },
  {
   "cell_type": "code",
   "execution_count": 2,
   "id": "e8de2c38-092b-4a14-a70c-9d1c8227424f",
   "metadata": {},
   "outputs": [],
   "source": [
    "energy = \"14\"\n",
    "\n",
    "detector = [\"FASER2\" , 650, \"-1.5<x.x<1.5 and -.5<x.y<.5\" , 10 , 3000, [\"e_e\"]]"
   ]
  },
  {
   "cell_type": "markdown",
   "id": "c809157b-ddd0-4969-87eb-012d5686ad36",
   "metadata": {},
   "source": [
    "### Define Truth Model"
   ]
  },
  {
   "cell_type": "code",
   "execution_count": 3,
   "id": "2625b74f-b1ee-46cf-aed9-3c3bf5dd7e9d",
   "metadata": {},
   "outputs": [
    {
     "name": "stderr",
     "output_type": "stream",
     "text": [
      "/Users/laroccod/miniconda3/lib/python3.9/site-packages/awkward/_cpu_kernels.py:7: DeprecationWarning: pkg_resources is deprecated as an API. See https://setuptools.pypa.io/en/latest/pkg_resources.html\n",
      "  import pkg_resources\n"
     ]
    }
   ],
   "source": [
    "nevent = int(1e5)    #number of monte-carlo event samples\n",
    "\n",
    "llp = 'DarkPhoton'   #llp model ('DarkPhoton' or 'U(1)B-L')\n",
    "\n",
    "mass, coupling = .05, 3e-5  #truth mass and coupling\n",
    "\n",
    "foresee = init_llp(energy=energy,llp =llp)\n",
    "\n",
    "dlabel, distance, selection, length, luminosity, channels  = detector\n",
    "                \n",
    "foresee.set_detector(distance=distance, selection=selection, length=length, luminosity=luminosity, channels=channels)"
   ]
  },
  {
   "cell_type": "markdown",
   "id": "655f712a-261a-448a-a13b-b89d18166176",
   "metadata": {},
   "source": [
    "### Pseudo-data Generation"
   ]
  },
  {
   "cell_type": "code",
   "execution_count": 4,
   "id": "a672df96-b83b-4aa2-816b-c679f89d3861",
   "metadata": {},
   "outputs": [
    {
     "name": "stdout",
     "output_type": "stream",
     "text": [
      "save data to file: ../DarkPhoton/model/LLP_spectra/14TeV_111_EPOSLHC_m_0.05.npy\n",
      "save data to file: ../DarkPhoton/model/LLP_spectra/14TeV_221_EPOSLHC_m_0.05.npy\n",
      "save data to file: ../DarkPhoton/model/LLP_spectra/14TeV_113_EPOSLHC_m_0.05.npy\n",
      "save data to file: ../DarkPhoton/model/LLP_spectra/14TeV_Brem_p.pt<1_m_0.05.npy\n",
      "CPU times: user 24.8 s, sys: 346 ms, total: 25.2 s\n",
      "Wall time: 25.4 s\n"
     ]
    }
   ],
   "source": [
    "%%time\n",
    "\n",
    "if True: foresee.get_llp_spectrum(mass=mass, coupling=1, do_plot=False) \n",
    "\n",
    "_, _, _, _, weights = foresee.get_events(\n",
    "    mass=mass, \n",
    "    energy=energy, \n",
    "    couplings = [coupling], \n",
    "    nsample=1, modes=None\n",
    ")\n",
    "\n",
    "if sum(weights[0].T[0]) != 0.0:\n",
    "\n",
    "    _, weights, sample = foresee.write_events(    #get samples of llp events\n",
    "        mass = mass, \n",
    "        coupling = coupling, \n",
    "        energy = energy,\n",
    "        nsample = 10,\n",
    "        numberevent = nevent, \n",
    "        return_data = True,\n",
    "    )\n",
    "\n",
    "else:\n",
    "    print(\"No events expected in detector.\")"
   ]
  },
  {
   "cell_type": "markdown",
   "id": "3376c409-0780-41e4-b6ed-f95868a5d2bf",
   "metadata": {},
   "source": [
    "### Pseudo-data binning\n",
    "\n",
    "**Note**: Binning should be chosen to such that there are a sufficient number monte-carlo samples in each bin as to avoid over-discrimination. This can be checked by temporarily setting `weighted = False`. \n",
    "\n"
   ]
  },
  {
   "cell_type": "code",
   "execution_count": 5,
   "id": "3cd44a24-d1f2-4965-8666-b3408a7890c9",
   "metadata": {},
   "outputs": [
    {
     "name": "stdout",
     "output_type": "stream",
     "text": [
      "CPU times: user 2.1 s, sys: 31.3 ms, total: 2.13 s\n",
      "Wall time: 2.15 s\n"
     ]
    },
    {
     "data": {
      "image/png": "[encoded data removed]",
      "text/plain": [
       "<Figure size 432x288 with 1 Axes>"
      ]
     },
     "metadata": {
      "needs_background": "light"
     },
     "output_type": "display_data"
    },
    {
     "data": {
      "image/png": "[encoded data removed]",
      "text/plain": [
       "<Figure size 432x288 with 2 Axes>"
      ]
     },
     "metadata": {
      "needs_background": "light"
     },
     "output_type": "display_data"
    }
   ],
   "source": [
    "%%time\n",
    "\n",
    "truth_data = {} #dictionary for storing truth data\n",
    "\n",
    "truth_data['E'], Ebins, (fig,ax) = get_hist(     #get binnned data for truth point\n",
    "    sample = sample,\n",
    "    measurement = 'E', #options: 'E', 'eta', 'm', 'eta+E', 'm+E' (see parameter_estimation.py for measurement assumptions)\n",
    "    bins = np.linspace(1500,7000,20+1), #bins to be used by np.histogram\n",
    "    weighted=True, #if True, counts are expected events per bin, if False counts are monte-carlo samples per bin\n",
    "    plot=True\n",
    ")\n",
    "\n",
    "\n",
    "truth_data['eta+E'], eta_E_bins, (fig,ax) = get_hist(\n",
    "    sample = sample, \n",
    "    measurement = 'eta+E', #options: 'E', 'eta', 'm', 'eta+E', 'm+E' (see parameter_estimation.py for measurement assumptions)\n",
    "    bins = [np.linspace(8,11,8+1),np.linspace(2000,6000,8+1)], #bins to be used by np.histogram\n",
    "    weighted=True, #if True, counts are expected events per bin, if False counts are monte-carlo samples per bin\n",
    "    plot=True\n",
    ")\n",
    "\n",
    "if True: np.save(f'DarkPhoton-Truth',np.array([truth_data],dtype='object'))"
   ]
  },
  {
   "cell_type": "markdown",
   "id": "5c118eac-50be-4322-ba82-e4e02f67fe9c",
   "metadata": {},
   "source": [
    "### Define Test Model and Parameter Scan"
   ]
  },
  {
   "cell_type": "code",
   "execution_count": 6,
   "id": "a4cd35fb-d4e0-4990-aa88-4bf4253f12e1",
   "metadata": {},
   "outputs": [],
   "source": [
    "nevent = int(1e5)     #number of event samples for test points\n",
    "\n",
    "nexp = 200            #number of pseudo-experiments to generate\n",
    "\n",
    "llp = 'DarkPhoton'    #llp model ('DarkPhoton' or 'U(1)B-L')\n",
    "\n",
    "#mass and couplings for parameter scan\n",
    "masses, couplings = np.unique(np.append(np.linspace(.045,0.055,20),mass)),  np.unique(np.append(np.linspace(2.5e-5, 3.5e-5,10),coupling)) \n",
    "\n",
    "foresee = init_llp(energy=energy,llp =llp)\n",
    "\n",
    "foresee.set_detector(distance=distance, selection=selection, length=length, luminosity=luminosity, channels=channels)"
   ]
  },
  {
   "cell_type": "markdown",
   "id": "40a8561a-2b92-4f64-9054-f14579b589d4",
   "metadata": {},
   "source": [
    "### Parameter Scan (Data Generation and Binning)"
   ]
  },
  {
   "cell_type": "code",
   "execution_count": 7,
   "id": "3055ff82-18d8-4769-b0df-28ac5995fa33",
   "metadata": {},
   "outputs": [
    {
     "name": "stdout",
     "output_type": "stream",
     "text": [
      "save data to file: ../DarkPhoton/model/LLP_spectra/14TeV_111_EPOSLHC_m_0.045.npy\n",
      "save data to file: ../DarkPhoton/model/LLP_spectra/14TeV_221_EPOSLHC_m_0.045.npy\n",
      "save data to file: ../DarkPhoton/model/LLP_spectra/14TeV_113_EPOSLHC_m_0.045.npy\n",
      "save data to file: ../DarkPhoton/model/LLP_spectra/14TeV_Brem_p.pt<1_m_0.045.npy\n",
      "save data to file: ../DarkPhoton/model/LLP_spectra/14TeV_111_EPOSLHC_m_0.045526315789473686.npy\n",
      "save data to file: ../DarkPhoton/model/LLP_spectra/14TeV_221_EPOSLHC_m_0.045526315789473686.npy\n",
      "save data to file: ../DarkPhoton/model/LLP_spectra/14TeV_113_EPOSLHC_m_0.045526315789473686.npy\n",
      "save data to file: ../DarkPhoton/model/LLP_spectra/14TeV_Brem_p.pt<1_m_0.045526315789473686.npy\n",
      "save data to file: ../DarkPhoton/model/LLP_spectra/14TeV_111_EPOSLHC_m_0.046052631578947366.npy\n",
      "save data to file: ../DarkPhoton/model/LLP_spectra/14TeV_221_EPOSLHC_m_0.046052631578947366.npy\n",
      "save data to file: ../DarkPhoton/model/LLP_spectra/14TeV_113_EPOSLHC_m_0.046052631578947366.npy\n",
      "save data to file: ../DarkPhoton/model/LLP_spectra/14TeV_Brem_p.pt<1_m_0.046052631578947366.npy\n",
      "save data to file: ../DarkPhoton/model/LLP_spectra/14TeV_111_EPOSLHC_m_0.04657894736842105.npy\n",
      "save data to file: ../DarkPhoton/model/LLP_spectra/14TeV_221_EPOSLHC_m_0.04657894736842105.npy\n",
      "save data to file: ../DarkPhoton/model/LLP_spectra/14TeV_113_EPOSLHC_m_0.04657894736842105.npy\n",
      "save data to file: ../DarkPhoton/model/LLP_spectra/14TeV_Brem_p.pt<1_m_0.04657894736842105.npy\n",
      "save data to file: ../DarkPhoton/model/LLP_spectra/14TeV_111_EPOSLHC_m_0.04710526315789473.npy\n",
      "save data to file: ../DarkPhoton/model/LLP_spectra/14TeV_221_EPOSLHC_m_0.04710526315789473.npy\n",
      "save data to file: ../DarkPhoton/model/LLP_spectra/14TeV_113_EPOSLHC_m_0.04710526315789473.npy\n",
      "save data to file: ../DarkPhoton/model/LLP_spectra/14TeV_Brem_p.pt<1_m_0.04710526315789473.npy\n",
      "save data to file: ../DarkPhoton/model/LLP_spectra/14TeV_111_EPOSLHC_m_0.04763157894736842.npy\n",
      "save data to file: ../DarkPhoton/model/LLP_spectra/14TeV_221_EPOSLHC_m_0.04763157894736842.npy\n",
      "save data to file: ../DarkPhoton/model/LLP_spectra/14TeV_113_EPOSLHC_m_0.04763157894736842.npy\n",
      "save data to file: ../DarkPhoton/model/LLP_spectra/14TeV_Brem_p.pt<1_m_0.04763157894736842.npy\n",
      "save data to file: ../DarkPhoton/model/LLP_spectra/14TeV_111_EPOSLHC_m_0.04815789473684211.npy\n",
      "save data to file: ../DarkPhoton/model/LLP_spectra/14TeV_221_EPOSLHC_m_0.04815789473684211.npy\n",
      "save data to file: ../DarkPhoton/model/LLP_spectra/14TeV_113_EPOSLHC_m_0.04815789473684211.npy\n",
      "save data to file: ../DarkPhoton/model/LLP_spectra/14TeV_Brem_p.pt<1_m_0.04815789473684211.npy\n",
      "save data to file: ../DarkPhoton/model/LLP_spectra/14TeV_111_EPOSLHC_m_0.04868421052631579.npy\n",
      "save data to file: ../DarkPhoton/model/LLP_spectra/14TeV_221_EPOSLHC_m_0.04868421052631579.npy\n",
      "save data to file: ../DarkPhoton/model/LLP_spectra/14TeV_113_EPOSLHC_m_0.04868421052631579.npy\n",
      "save data to file: ../DarkPhoton/model/LLP_spectra/14TeV_Brem_p.pt<1_m_0.04868421052631579.npy\n",
      "save data to file: ../DarkPhoton/model/LLP_spectra/14TeV_111_EPOSLHC_m_0.049210526315789475.npy\n",
      "save data to file: ../DarkPhoton/model/LLP_spectra/14TeV_221_EPOSLHC_m_0.049210526315789475.npy\n",
      "save data to file: ../DarkPhoton/model/LLP_spectra/14TeV_113_EPOSLHC_m_0.049210526315789475.npy\n",
      "save data to file: ../DarkPhoton/model/LLP_spectra/14TeV_Brem_p.pt<1_m_0.049210526315789475.npy\n",
      "save data to file: ../DarkPhoton/model/LLP_spectra/14TeV_111_EPOSLHC_m_0.049736842105263156.npy\n",
      "save data to file: ../DarkPhoton/model/LLP_spectra/14TeV_221_EPOSLHC_m_0.049736842105263156.npy\n",
      "save data to file: ../DarkPhoton/model/LLP_spectra/14TeV_113_EPOSLHC_m_0.049736842105263156.npy\n",
      "save data to file: ../DarkPhoton/model/LLP_spectra/14TeV_Brem_p.pt<1_m_0.049736842105263156.npy\n",
      "save data to file: ../DarkPhoton/model/LLP_spectra/14TeV_111_EPOSLHC_m_0.05.npy\n",
      "save data to file: ../DarkPhoton/model/LLP_spectra/14TeV_221_EPOSLHC_m_0.05.npy\n",
      "save data to file: ../DarkPhoton/model/LLP_spectra/14TeV_113_EPOSLHC_m_0.05.npy\n",
      "save data to file: ../DarkPhoton/model/LLP_spectra/14TeV_Brem_p.pt<1_m_0.05.npy\n",
      "save data to file: ../DarkPhoton/model/LLP_spectra/14TeV_111_EPOSLHC_m_0.05026315789473684.npy\n",
      "save data to file: ../DarkPhoton/model/LLP_spectra/14TeV_221_EPOSLHC_m_0.05026315789473684.npy\n",
      "save data to file: ../DarkPhoton/model/LLP_spectra/14TeV_113_EPOSLHC_m_0.05026315789473684.npy\n",
      "save data to file: ../DarkPhoton/model/LLP_spectra/14TeV_Brem_p.pt<1_m_0.05026315789473684.npy\n",
      "save data to file: ../DarkPhoton/model/LLP_spectra/14TeV_111_EPOSLHC_m_0.05078947368421052.npy\n",
      "save data to file: ../DarkPhoton/model/LLP_spectra/14TeV_221_EPOSLHC_m_0.05078947368421052.npy\n",
      "save data to file: ../DarkPhoton/model/LLP_spectra/14TeV_113_EPOSLHC_m_0.05078947368421052.npy\n",
      "save data to file: ../DarkPhoton/model/LLP_spectra/14TeV_Brem_p.pt<1_m_0.05078947368421052.npy\n",
      "save data to file: ../DarkPhoton/model/LLP_spectra/14TeV_111_EPOSLHC_m_0.05131578947368421.npy\n",
      "save data to file: ../DarkPhoton/model/LLP_spectra/14TeV_221_EPOSLHC_m_0.05131578947368421.npy\n",
      "save data to file: ../DarkPhoton/model/LLP_spectra/14TeV_113_EPOSLHC_m_0.05131578947368421.npy\n",
      "save data to file: ../DarkPhoton/model/LLP_spectra/14TeV_Brem_p.pt<1_m_0.05131578947368421.npy\n",
      "save data to file: ../DarkPhoton/model/LLP_spectra/14TeV_111_EPOSLHC_m_0.0518421052631579.npy\n",
      "save data to file: ../DarkPhoton/model/LLP_spectra/14TeV_221_EPOSLHC_m_0.0518421052631579.npy\n",
      "save data to file: ../DarkPhoton/model/LLP_spectra/14TeV_113_EPOSLHC_m_0.0518421052631579.npy\n",
      "save data to file: ../DarkPhoton/model/LLP_spectra/14TeV_Brem_p.pt<1_m_0.0518421052631579.npy\n",
      "save data to file: ../DarkPhoton/model/LLP_spectra/14TeV_111_EPOSLHC_m_0.05236842105263158.npy\n",
      "save data to file: ../DarkPhoton/model/LLP_spectra/14TeV_221_EPOSLHC_m_0.05236842105263158.npy\n",
      "save data to file: ../DarkPhoton/model/LLP_spectra/14TeV_113_EPOSLHC_m_0.05236842105263158.npy\n",
      "save data to file: ../DarkPhoton/model/LLP_spectra/14TeV_Brem_p.pt<1_m_0.05236842105263158.npy\n",
      "save data to file: ../DarkPhoton/model/LLP_spectra/14TeV_111_EPOSLHC_m_0.052894736842105265.npy\n",
      "save data to file: ../DarkPhoton/model/LLP_spectra/14TeV_221_EPOSLHC_m_0.052894736842105265.npy\n",
      "save data to file: ../DarkPhoton/model/LLP_spectra/14TeV_113_EPOSLHC_m_0.052894736842105265.npy\n",
      "save data to file: ../DarkPhoton/model/LLP_spectra/14TeV_Brem_p.pt<1_m_0.052894736842105265.npy\n",
      "save data to file: ../DarkPhoton/model/LLP_spectra/14TeV_111_EPOSLHC_m_0.053421052631578946.npy\n",
      "save data to file: ../DarkPhoton/model/LLP_spectra/14TeV_221_EPOSLHC_m_0.053421052631578946.npy\n",
      "save data to file: ../DarkPhoton/model/LLP_spectra/14TeV_113_EPOSLHC_m_0.053421052631578946.npy\n",
      "save data to file: ../DarkPhoton/model/LLP_spectra/14TeV_Brem_p.pt<1_m_0.053421052631578946.npy\n",
      "save data to file: ../DarkPhoton/model/LLP_spectra/14TeV_111_EPOSLHC_m_0.05394736842105263.npy\n",
      "save data to file: ../DarkPhoton/model/LLP_spectra/14TeV_221_EPOSLHC_m_0.05394736842105263.npy\n",
      "save data to file: ../DarkPhoton/model/LLP_spectra/14TeV_113_EPOSLHC_m_0.05394736842105263.npy\n",
      "save data to file: ../DarkPhoton/model/LLP_spectra/14TeV_Brem_p.pt<1_m_0.05394736842105263.npy\n",
      "save data to file: ../DarkPhoton/model/LLP_spectra/14TeV_111_EPOSLHC_m_0.05447368421052631.npy\n",
      "save data to file: ../DarkPhoton/model/LLP_spectra/14TeV_221_EPOSLHC_m_0.05447368421052631.npy\n",
      "save data to file: ../DarkPhoton/model/LLP_spectra/14TeV_113_EPOSLHC_m_0.05447368421052631.npy\n",
      "save data to file: ../DarkPhoton/model/LLP_spectra/14TeV_Brem_p.pt<1_m_0.05447368421052631.npy\n",
      "save data to file: ../DarkPhoton/model/LLP_spectra/14TeV_111_EPOSLHC_m_0.055.npy\n",
      "save data to file: ../DarkPhoton/model/LLP_spectra/14TeV_221_EPOSLHC_m_0.055.npy\n",
      "save data to file: ../DarkPhoton/model/LLP_spectra/14TeV_113_EPOSLHC_m_0.055.npy\n",
      "save data to file: ../DarkPhoton/model/LLP_spectra/14TeV_Brem_p.pt<1_m_0.055.npy\n"
     ]
    },
    {
     "name": "stderr",
     "output_type": "stream",
     "text": [
      "100%|████████████████████████████████████████| 21/21 [1:34:43<00:00, 270.66s/it]"
     ]
    },
    {
     "name": "stdout",
     "output_type": "stream",
     "text": [
      "CPU times: user 1h 33min 3s, sys: 55.7 s, total: 1h 33min 59s\n",
      "Wall time: 1h 35min 29s\n"
     ]
    },
    {
     "name": "stderr",
     "output_type": "stream",
     "text": [
      "\n"
     ]
    }
   ],
   "source": [
    "%%time\n",
    "\n",
    "for m in masses: foresee.get_llp_spectrum(mass=m, coupling=1, do_plot=False) \n",
    "\n",
    "scan = np.empty((len(masses),len(couplings)),dtype='object') #Load with np.load(f'scan.npy',allow_pickle=True) alternatively\n",
    "\n",
    "\n",
    "#scan over mass and couplings\n",
    "for im,m in enumerate(tqdm(masses)):\n",
    "        \n",
    "    for ieps,eps in enumerate(couplings):\n",
    "\n",
    "        test_data = {}\n",
    "        \n",
    "        _, _, _, _, weights = foresee.get_events(\n",
    "            mass=m, \n",
    "            energy=energy, \n",
    "            couplings = [eps], \n",
    "            nsample=1, modes=None\n",
    "        )\n",
    "        \n",
    "        if sum(weights[0].T[0]) != 0.0:\n",
    "        \n",
    "            _, weights, sample = foresee.write_events(     #get samples of llp events\n",
    "                mass = m, \n",
    "                coupling = eps, \n",
    "                energy = energy,\n",
    "                nsample = 10,\n",
    "                numberevent = nevent, \n",
    "                return_data = True,\n",
    "            )\n",
    "\n",
    "        test_data['E'], _ = get_hist( #get binnned data for truth point\n",
    "            sample = sample,\n",
    "            measurement = 'E',\n",
    "            bins = Ebins,\n",
    "        )\n",
    "\n",
    "        test_data['eta+E'], _ = get_hist(\n",
    "            sample = sample,\n",
    "            measurement = 'eta+E',\n",
    "            bins = eta_E_bins,\n",
    "        )\n",
    "\n",
    "        scan[im,ieps] = test_data \n",
    "\n",
    "np.save(f'scan-DarkPhoton',scan)"
   ]
  },
  {
   "cell_type": "code",
   "execution_count": 8,
   "id": "28a8154b-b91e-45d4-95ab-a1cbbe92a7db",
   "metadata": {},
   "outputs": [
    {
     "name": "stderr",
     "output_type": "stream",
     "text": [
      "100%|███████████████████████████████████████████| 21/21 [00:06<00:00,  3.13it/s]\n"
     ]
    },
    {
     "name": "stdout",
     "output_type": "stream",
     "text": [
      "\n",
      "Best fit chi2: m = 50.00 eps = 3.00e-05:\t\t24\n",
      "\n",
      " 1 sigma: 27.3\n",
      " 2 sigma: 37.7\n",
      " 3 sigma: 47.7\n",
      "\n",
      "\n"
     ]
    },
    {
     "name": "stderr",
     "output_type": "stream",
     "text": [
      "100%|████████████████████████████████████████| 21/21 [00:00<00:00, 18586.28it/s]"
     ]
    },
    {
     "name": "stdout",
     "output_type": "stream",
     "text": [
      "m = 45.00 eps = 2.50e-05:\t\t5908\n",
      "m = 45.00 eps = 2.61e-05:\t\t4508\n",
      "m = 45.00 eps = 2.72e-05:\t\t3306\n",
      "m = 45.00 eps = 2.83e-05:\t\t2294\n",
      "m = 45.00 eps = 2.94e-05:\t\t1520\n",
      "m = 45.00 eps = 3.00e-05:\t\t1191\n",
      "m = 45.00 eps = 3.06e-05:\t\t908\n",
      "m = 45.00 eps = 3.17e-05:\t\t461\n",
      "m = 45.00 eps = 3.28e-05:\t\t181\n",
      "m = 45.00 eps = 3.39e-05:\t\t39\n",
      "m = 45.00 eps = 3.50e-05:\t\t16\n",
      "m = 45.53 eps = 2.50e-05:\t\t4444\n",
      "m = 45.53 eps = 2.61e-05:\t\t3315\n",
      "m = 45.53 eps = 2.72e-05:\t\t2332\n",
      "m = 45.53 eps = 2.83e-05:\t\t1510\n",
      "m = 45.53 eps = 2.94e-05:\t\t921\n",
      "m = 45.53 eps = 3.00e-05:\t\t677\n",
      "m = 45.53 eps = 3.06e-05:\t\t483\n",
      "m = 45.53 eps = 3.17e-05:\t\t191\n",
      "m = 45.53 eps = 3.28e-05:\t\t45\n",
      "m = 45.53 eps = 3.39e-05:\t\t8\n",
      "m = 45.53 eps = 3.50e-05:\t\t81\n",
      "m = 46.05 eps = 2.50e-05:\t\t5319\n",
      "m = 46.05 eps = 2.61e-05:\t\t3965\n",
      "m = 46.05 eps = 2.72e-05:\t\t2794\n",
      "m = 46.05 eps = 2.83e-05:\t\t1891\n",
      "m = 46.05 eps = 2.94e-05:\t\t1173\n",
      "m = 46.05 eps = 3.00e-05:\t\t891\n",
      "m = 46.05 eps = 3.06e-05:\t\t653\n",
      "m = 46.05 eps = 3.17e-05:\t\t292\n",
      "m = 46.05 eps = 3.28e-05:\t\t82\n",
      "m = 46.05 eps = 3.39e-05:\t\t14\n",
      "m = 46.05 eps = 3.50e-05:\t\t58\n",
      "m = 46.58 eps = 2.50e-05:\t\t4093\n",
      "m = 46.58 eps = 2.61e-05:\t\t2923\n",
      "m = 46.58 eps = 2.72e-05:\t\t1991\n",
      "m = 46.58 eps = 2.83e-05:\t\t1237\n",
      "m = 46.58 eps = 2.94e-05:\t\t703\n",
      "m = 46.58 eps = 3.00e-05:\t\t486\n",
      "m = 46.58 eps = 3.06e-05:\t\t322\n",
      "m = 46.58 eps = 3.17e-05:\t\t99\n",
      "m = 46.58 eps = 3.28e-05:\t\t2\n",
      "m = 46.58 eps = 3.39e-05:\t\t37\n",
      "m = 46.58 eps = 3.50e-05:\t\t164\n",
      "m = 47.11 eps = 2.50e-05:\t\t4654\n",
      "m = 47.11 eps = 2.61e-05:\t\t3357\n",
      "m = 47.11 eps = 2.72e-05:\t\t2296\n",
      "m = 47.11 eps = 2.83e-05:\t\t1471\n",
      "m = 47.11 eps = 2.94e-05:\t\t842\n",
      "m = 47.11 eps = 3.00e-05:\t\t600\n",
      "m = 47.11 eps = 3.06e-05:\t\t407\n",
      "m = 47.11 eps = 3.17e-05:\t\t142\n",
      "m = 47.11 eps = 3.28e-05:\t\t24\n",
      "m = 47.11 eps = 3.39e-05:\t\t33\n",
      "m = 47.11 eps = 3.50e-05:\t\t151\n",
      "m = 47.63 eps = 2.50e-05:\t\t3424\n",
      "m = 47.63 eps = 2.61e-05:\t\t2363\n",
      "m = 47.63 eps = 2.72e-05:\t\t1505\n",
      "m = 47.63 eps = 2.83e-05:\t\t884\n",
      "m = 47.63 eps = 2.94e-05:\t\t435\n",
      "m = 47.63 eps = 3.00e-05:\t\t282\n",
      "m = 47.63 eps = 3.06e-05:\t\t155\n",
      "m = 47.63 eps = 3.17e-05:\t\t24\n",
      "m = 47.63 eps = 3.28e-05:\t\t13\n",
      "m = 47.63 eps = 3.39e-05:\t\t125\n",
      "m = 47.63 eps = 3.50e-05:\t\t329\n",
      "m = 48.16 eps = 2.50e-05:\t\t3095\n",
      "m = 48.16 eps = 2.61e-05:\t\t2106\n",
      "m = 48.16 eps = 2.72e-05:\t\t1321\n",
      "m = 48.16 eps = 2.83e-05:\t\t742\n",
      "m = 48.16 eps = 2.94e-05:\t\t334\n",
      "m = 48.16 eps = 3.00e-05:\t\t199\n",
      "m = 48.16 eps = 3.06e-05:\t\t98\n",
      "m = 48.16 eps = 3.17e-05:\t\t9\n",
      "m = 48.16 eps = 3.28e-05:\t\t41\n",
      "m = 48.16 eps = 3.39e-05:\t\t187\n",
      "m = 48.16 eps = 3.50e-05:\t\t423\n",
      "m = 48.68 eps = 2.50e-05:\t\t2195\n",
      "m = 48.68 eps = 2.61e-05:\t\t1395\n",
      "m = 48.68 eps = 2.72e-05:\t\t793\n",
      "m = 48.68 eps = 2.83e-05:\t\t383\n",
      "m = 48.68 eps = 2.94e-05:\t\t123\n",
      "m = 48.68 eps = 3.00e-05:\t\t56\n",
      "m = 48.68 eps = 3.06e-05:\t\t11\n",
      "m = 48.68 eps = 3.17e-05:\t\t22\n",
      "m = 48.68 eps = 3.28e-05:\t\t157\n",
      "m = 48.68 eps = 3.39e-05:\t\t371\n",
      "m = 48.68 eps = 3.50e-05:\t\t669\n",
      "m = 49.21 eps = 2.50e-05:\t\t1884\n",
      "m = 49.21 eps = 2.61e-05:\t\t1142\n",
      "m = 49.21 eps = 2.72e-05:\t\t620\n",
      "m = 49.21 eps = 2.83e-05:\t\t259\n",
      "m = 49.21 eps = 2.94e-05:\t\t64\n",
      "m = 49.21 eps = 3.00e-05:\t\t17\n",
      "m = 49.21 eps = 3.06e-05:\t\t4\n",
      "m = 49.21 eps = 3.17e-05:\t\t69\n",
      "m = 49.21 eps = 3.28e-05:\t\t244\n",
      "m = 49.21 eps = 3.39e-05:\t\t496\n",
      "m = 49.21 eps = 3.50e-05:\t\t845\n",
      "m = 49.74 eps = 2.50e-05:\t\t1901\n",
      "m = 49.74 eps = 2.61e-05:\t\t1146\n",
      "m = 49.74 eps = 2.72e-05:\t\t620\n",
      "m = 49.74 eps = 2.83e-05:\t\t255\n",
      "m = 49.74 eps = 2.94e-05:\t\t56\n",
      "m = 49.74 eps = 3.00e-05:\t\t16\n",
      "m = 49.74 eps = 3.06e-05:\t\t2\n",
      "m = 49.74 eps = 3.17e-05:\t\t69\n",
      "m = 49.74 eps = 3.28e-05:\t\t268\n",
      "m = 49.74 eps = 3.39e-05:\t\t535\n",
      "m = 49.74 eps = 3.50e-05:\t\t900\n",
      "m = 50.00 eps = 2.50e-05:\t\t1455\n",
      "m = 50.00 eps = 2.61e-05:\t\t843\n",
      "m = 50.00 eps = 2.72e-05:\t\t404\n",
      "m = 50.00 eps = 2.83e-05:\t\t135\n",
      "m = 50.00 eps = 2.94e-05:\t\t14\n",
      "m = 50.00 eps = 3.00e-05:\t\t0\n",
      "m = 50.00 eps = 3.06e-05:\t\t25\n",
      "m = 50.00 eps = 3.17e-05:\t\t148\n",
      "m = 50.00 eps = 3.28e-05:\t\t366\n",
      "m = 50.00 eps = 3.39e-05:\t\t688\n",
      "m = 50.00 eps = 3.50e-05:\t\t1074\n",
      "m = 50.26 eps = 2.50e-05:\t\t1687\n",
      "m = 50.26 eps = 2.61e-05:\t\t998\n",
      "m = 50.26 eps = 2.72e-05:\t\t500\n",
      "m = 50.26 eps = 2.83e-05:\t\t185\n",
      "m = 50.26 eps = 2.94e-05:\t\t26\n",
      "m = 50.26 eps = 3.00e-05:\t\t1\n",
      "m = 50.26 eps = 3.06e-05:\t\t10\n",
      "m = 50.26 eps = 3.17e-05:\t\t118\n",
      "m = 50.26 eps = 3.28e-05:\t\t344\n",
      "m = 50.26 eps = 3.39e-05:\t\t649\n",
      "m = 50.26 eps = 3.50e-05:\t\t1018\n",
      "m = 50.79 eps = 2.50e-05:\t\t1754\n",
      "m = 50.79 eps = 2.61e-05:\t\t1041\n",
      "m = 50.79 eps = 2.72e-05:\t\t503\n",
      "m = 50.79 eps = 2.83e-05:\t\t185\n",
      "m = 50.79 eps = 2.94e-05:\t\t32\n",
      "m = 50.79 eps = 3.00e-05:\t\t7\n",
      "m = 50.79 eps = 3.06e-05:\t\t11\n",
      "m = 50.79 eps = 3.17e-05:\t\t132\n",
      "m = 50.79 eps = 3.28e-05:\t\t352\n",
      "m = 50.79 eps = 3.39e-05:\t\t678\n",
      "m = 50.79 eps = 3.50e-05:\t\t1104\n",
      "m = 51.32 eps = 2.50e-05:\t\t1080\n",
      "m = 51.32 eps = 2.61e-05:\t\t574\n",
      "m = 51.32 eps = 2.72e-05:\t\t218\n",
      "m = 51.32 eps = 2.83e-05:\t\t42\n",
      "m = 51.32 eps = 2.94e-05:\t\t8\n",
      "m = 51.32 eps = 3.00e-05:\t\t34\n",
      "m = 51.32 eps = 3.06e-05:\t\t98\n",
      "m = 51.32 eps = 3.17e-05:\t\t296\n",
      "m = 51.32 eps = 3.28e-05:\t\t596\n",
      "m = 51.32 eps = 3.39e-05:\t\t976\n",
      "m = 51.32 eps = 3.50e-05:\t\t1417\n",
      "m = 51.84 eps = 2.50e-05:\t\t848\n",
      "m = 51.84 eps = 2.61e-05:\t\t401\n",
      "m = 51.84 eps = 2.72e-05:\t\t128\n",
      "m = 51.84 eps = 2.83e-05:\t\t8\n",
      "m = 51.84 eps = 2.94e-05:\t\t35\n",
      "m = 51.84 eps = 3.00e-05:\t\t93\n",
      "m = 51.84 eps = 3.06e-05:\t\t177\n",
      "m = 51.84 eps = 3.17e-05:\t\t417\n",
      "m = 51.84 eps = 3.28e-05:\t\t762\n",
      "m = 51.84 eps = 3.39e-05:\t\t1176\n",
      "m = 51.84 eps = 3.50e-05:\t\t1665\n",
      "m = 52.37 eps = 2.50e-05:\t\t761\n",
      "m = 52.37 eps = 2.61e-05:\t\t337\n",
      "m = 52.37 eps = 2.72e-05:\t\t99\n",
      "m = 52.37 eps = 2.83e-05:\t\t7\n",
      "m = 52.37 eps = 2.94e-05:\t\t58\n",
      "m = 52.37 eps = 3.00e-05:\t\t127\n",
      "m = 52.37 eps = 3.06e-05:\t\t229\n",
      "m = 52.37 eps = 3.17e-05:\t\t502\n",
      "m = 52.37 eps = 3.28e-05:\t\t870\n",
      "m = 52.37 eps = 3.39e-05:\t\t1302\n",
      "m = 52.37 eps = 3.50e-05:\t\t1825\n",
      "m = 52.89 eps = 2.50e-05:\t\t739\n",
      "m = 52.89 eps = 2.61e-05:\t\t329\n",
      "m = 52.89 eps = 2.72e-05:\t\t98\n",
      "m = 52.89 eps = 2.83e-05:\t\t6\n",
      "m = 52.89 eps = 2.94e-05:\t\t75\n",
      "m = 52.89 eps = 3.00e-05:\t\t153\n",
      "m = 52.89 eps = 3.06e-05:\t\t253\n",
      "m = 52.89 eps = 3.17e-05:\t\t556\n",
      "m = 52.89 eps = 3.28e-05:\t\t939\n",
      "m = 52.89 eps = 3.39e-05:\t\t1396\n",
      "m = 52.89 eps = 3.50e-05:\t\t1938\n",
      "m = 53.42 eps = 2.50e-05:\t\t416\n",
      "m = 53.42 eps = 2.61e-05:\t\t133\n",
      "m = 53.42 eps = 2.72e-05:\t\t16\n",
      "m = 53.42 eps = 2.83e-05:\t\t39\n",
      "m = 53.42 eps = 2.94e-05:\t\t180\n",
      "m = 53.42 eps = 3.00e-05:\t\t312\n",
      "m = 53.42 eps = 3.06e-05:\t\t427\n",
      "m = 53.42 eps = 3.17e-05:\t\t786\n",
      "m = 53.42 eps = 3.28e-05:\t\t1207\n",
      "m = 53.42 eps = 3.39e-05:\t\t1753\n",
      "m = 53.42 eps = 3.50e-05:\t\t2293\n",
      "m = 53.95 eps = 2.50e-05:\t\t375\n",
      "m = 53.95 eps = 2.61e-05:\t\t112\n",
      "m = 53.95 eps = 2.72e-05:\t\t13\n",
      "m = 53.95 eps = 2.83e-05:\t\t51\n",
      "m = 53.95 eps = 2.94e-05:\t\t220\n",
      "m = 53.95 eps = 3.00e-05:\t\t341\n",
      "m = 53.95 eps = 3.06e-05:\t\t489\n",
      "m = 53.95 eps = 3.17e-05:\t\t858\n",
      "m = 53.95 eps = 3.28e-05:\t\t1315\n",
      "m = 53.95 eps = 3.39e-05:\t\t1826\n",
      "m = 53.95 eps = 3.50e-05:\t\t2457\n",
      "m = 54.47 eps = 2.50e-05:\t\t298\n",
      "m = 54.47 eps = 2.61e-05:\t\t80\n",
      "m = 54.47 eps = 2.72e-05:\t\t15\n",
      "m = 54.47 eps = 2.83e-05:\t\t95\n",
      "m = 54.47 eps = 2.94e-05:\t\t300\n",
      "m = 54.47 eps = 3.00e-05:\t\t448\n",
      "m = 54.47 eps = 3.06e-05:\t\t607\n",
      "m = 54.47 eps = 3.17e-05:\t\t1016\n",
      "m = 54.47 eps = 3.28e-05:\t\t1500\n",
      "m = 54.47 eps = 3.39e-05:\t\t2038\n",
      "m = 54.47 eps = 3.50e-05:\t\t2661\n",
      "m = 55.00 eps = 2.50e-05:\t\t245\n",
      "m = 55.00 eps = 2.61e-05:\t\t44\n",
      "m = 55.00 eps = 2.72e-05:\t\t17\n",
      "m = 55.00 eps = 2.83e-05:\t\t127\n",
      "m = 55.00 eps = 2.94e-05:\t\t347\n",
      "m = 55.00 eps = 3.00e-05:\t\t505\n",
      "m = 55.00 eps = 3.06e-05:\t\t683\n",
      "m = 55.00 eps = 3.17e-05:\t\t1114\n",
      "m = 55.00 eps = 3.28e-05:\t\t1603\n",
      "m = 55.00 eps = 3.39e-05:\t\t2191\n",
      "m = 55.00 eps = 3.50e-05:\t\t2824\n",
      "CPU times: user 6.68 s, sys: 197 ms, total: 6.88 s\n",
      "Wall time: 6.88 s\n"
     ]
    },
    {
     "name": "stderr",
     "output_type": "stream",
     "text": [
      "\n"
     ]
    },
    {
     "data": {
      "text/plain": [
       "<matplotlib.collections.PathCollection at 0x7f8ce83f9580>"
      ]
     },
     "execution_count": 8,
     "metadata": {},
     "output_type": "execute_result"
    },
    {
     "data": {
      "image/png": "[encoded data removed]",
      "text/plain": [
       "<Figure size 432x288 with 1 Axes>"
      ]
     },
     "metadata": {
      "needs_background": "light"
     },
     "output_type": "display_data"
    }
   ],
   "source": [
    "%%time\n",
    "\n",
    "scan_chi, (fig,ax) = get_chi2( #get chi2 contour and output results\n",
    "    masses = masses*1e3,\n",
    "    couplings = couplings,\n",
    "    scan = scan,\n",
    "    truth_data = truth_data,\n",
    "    measurements = ['E'], #options: 'E', 'eta', 'm', 'eta+E', 'm+E' (see parameter_estimation.py for measurement assumptions)\n",
    "    nexp = nexp,\n",
    "    printing = True,\n",
    "    plot=True,\n",
    "    xlims = (45,55),\n",
    "    ylims = (2e-5,4e-5)\n",
    ")\n",
    "\n",
    "ax.set(yscale='linear')\n",
    "\n",
    "#plot scan grid\n",
    "xv, yv = np.meshgrid(masses*1e3,couplings)\n",
    "ax.scatter(xv,yv,marker='x',color='blue',s=2)"
   ]
  },
  {
   "cell_type": "code",
   "execution_count": 9,
   "id": "03272141-1b9e-486e-be6a-d331e5915d54",
   "metadata": {},
   "outputs": [],
   "source": [
    "fig.savefig('DarkPhoton.pdf')"
   ]
  }
 ],
 "metadata": {
  "kernelspec": {
   "display_name": "Python 3 (ipykernel)",
   "language": "python",
   "name": "python3"
  },
  "language_info": {
   "codemirror_mode": {
    "name": "ipython",
    "version": 3
   },
   "file_extension": ".py",
   "mimetype": "text/x-python",
   "name": "python",
   "nbconvert_exporter": "python",
   "pygments_lexer": "ipython3",
   "version": "3.9.17"
  }
 },
 "nbformat": 4,
 "nbformat_minor": 5
}
