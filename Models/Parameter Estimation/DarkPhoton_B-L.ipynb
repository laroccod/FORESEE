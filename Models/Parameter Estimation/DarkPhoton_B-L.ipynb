{
 "cells": [
  {
   "cell_type": "code",
   "execution_count": 1,
   "id": "67c7e1a8-e7f8-4dfb-9be7-74b02cfda206",
   "metadata": {},
   "outputs": [
    {
     "name": "stderr",
     "output_type": "stream",
     "text": [
      "/Users/laroccod/Desktop/FORESEE/Models/Parameter Estimation/../../src/foresee.py:1461: NumbaDeprecationWarning: The 'nopython' keyword argument was not supplied to the 'numba.jit' decorator. The implicit default value for this argument is currently False, but it will be changed to True in Numba 0.59.0. See https://numba.readthedocs.io/en/stable/reference/deprecation.html#deprecation-of-object-mode-fall-back-behaviour-when-using-jit for details.\n",
      "  def boostlist(arr_particle, arr_boost):\n"
     ]
    }
   ],
   "source": [
    "import sys, os\n",
    "src_path = \"../../\"\n",
    "sys.path.append(src_path)\n",
    "import numpy as np\n",
    "from src.foresee import Foresee, Utility, Model\n",
    "from matplotlib import pyplot as plt\n",
    "from tqdm import tqdm\n",
    "import pickle\n",
    "from scipy.special import factorial,gammaln\n",
    "from scipy import stats\n",
    "from parameter_estimation import *"
   ]
  },
  {
   "cell_type": "markdown",
   "id": "0f7973f4-b612-476c-b985-1cfa88495f2d",
   "metadata": {},
   "source": [
    "### Simulation / Detector Settings"
   ]
  },
  {
   "cell_type": "code",
   "execution_count": 2,
   "id": "e8de2c38-092b-4a14-a70c-9d1c8227424f",
   "metadata": {},
   "outputs": [],
   "source": [
    "energy = \"14\"\n",
    "\n",
    "detector = [\"FASER2\" , 650, \"-1.5<x.x<1.5 and -.5<x.y<.5\" , 10 , 3000, [\"e_e\"]]"
   ]
  },
  {
   "cell_type": "markdown",
   "id": "c809157b-ddd0-4969-87eb-012d5686ad36",
   "metadata": {},
   "source": [
    "### Define Truth Model"
   ]
  },
  {
   "cell_type": "code",
   "execution_count": 3,
   "id": "2625b74f-b1ee-46cf-aed9-3c3bf5dd7e9d",
   "metadata": {},
   "outputs": [
    {
     "name": "stderr",
     "output_type": "stream",
     "text": [
      "/Users/laroccod/miniconda3/lib/python3.9/site-packages/awkward/_cpu_kernels.py:7: DeprecationWarning: pkg_resources is deprecated as an API. See https://setuptools.pypa.io/en/latest/pkg_resources.html\n",
      "  import pkg_resources\n"
     ]
    }
   ],
   "source": [
    "nevent = int(1e5)    #number of monte-carlo event samples\n",
    "\n",
    "llp = 'DarkPhoton'   #llp model ('DarkPhoton' or 'U(1)B-L')\n",
    "\n",
    "mass, coupling = .05, 3e-5  #truth mass and coupling\n",
    "\n",
    "foresee = init_llp(energy=energy,llp =llp)\n",
    "\n",
    "dlabel, distance, selection, length, luminosity, channels  = detector\n",
    "                \n",
    "foresee.set_detector(distance=distance, selection=selection, length=length, luminosity=luminosity, channels=channels)"
   ]
  },
  {
   "cell_type": "markdown",
   "id": "655f712a-261a-448a-a13b-b89d18166176",
   "metadata": {},
   "source": [
    "### Pseudo-data Generation"
   ]
  },
  {
   "cell_type": "code",
   "execution_count": 4,
   "id": "a672df96-b83b-4aa2-816b-c679f89d3861",
   "metadata": {},
   "outputs": [
    {
     "name": "stdout",
     "output_type": "stream",
     "text": [
      "save data to file: ../DarkPhoton/model/LLP_spectra/14TeV_111_EPOSLHC_m_0.05.npy\n",
      "save data to file: ../DarkPhoton/model/LLP_spectra/14TeV_221_EPOSLHC_m_0.05.npy\n",
      "save data to file: ../DarkPhoton/model/LLP_spectra/14TeV_113_EPOSLHC_m_0.05.npy\n",
      "save data to file: ../DarkPhoton/model/LLP_spectra/14TeV_Brem_p.pt<1_m_0.05.npy\n",
      "CPU times: user 23.4 s, sys: 180 ms, total: 23.6 s\n",
      "Wall time: 23.6 s\n"
     ]
    }
   ],
   "source": [
    "%%time\n",
    "\n",
    "if True: foresee.get_llp_spectrum(mass=mass, coupling=1, do_plot=False) \n",
    "\n",
    "_, _, _, _, weights = foresee.get_events(\n",
    "    mass=mass, \n",
    "    energy=energy, \n",
    "    couplings = [coupling], \n",
    "    nsample=1, modes=None\n",
    ")\n",
    "\n",
    "if sum(weights[0].T[0]) != 0.0:\n",
    "\n",
    "    _, weights, sample = foresee.write_events(    #get samples of llp events\n",
    "        mass = mass, \n",
    "        coupling = coupling, \n",
    "        energy = energy,\n",
    "        nsample = 10,\n",
    "        numberevent = nevent, \n",
    "        return_data = True,\n",
    "    )\n",
    "\n",
    "else:\n",
    "    print(\"No events expected in detector.\")"
   ]
  },
  {
   "cell_type": "markdown",
   "id": "3376c409-0780-41e4-b6ed-f95868a5d2bf",
   "metadata": {},
   "source": [
    "### Pseudo-data binning\n",
    "\n",
    "**Note**: Binning should be chosen to such that there are a sufficient number monte-carlo samples in each bin as to avoid over-discrimination. This can be checked by temporarily setting `weighted = False`. \n",
    "\n"
   ]
  },
  {
   "cell_type": "code",
   "execution_count": 5,
   "id": "3cd44a24-d1f2-4965-8666-b3408a7890c9",
   "metadata": {},
   "outputs": [
    {
     "name": "stdout",
     "output_type": "stream",
     "text": [
      "CPU times: user 1.89 s, sys: 6.65 ms, total: 1.89 s\n",
      "Wall time: 1.9 s\n"
     ]
    },
    {
     "data": {
      "image/png": "[encoded data removed]",
      "text/plain": [
       "<Figure size 432x288 with 1 Axes>"
      ]
     },
     "metadata": {
      "needs_background": "light"
     },
     "output_type": "display_data"
    },
    {
     "data": {
      "image/png": "[encoded data removed]",
      "text/plain": [
       "<Figure size 432x288 with 2 Axes>"
      ]
     },
     "metadata": {
      "needs_background": "light"
     },
     "output_type": "display_data"
    }
   ],
   "source": [
    "%%time\n",
    "\n",
    "truth_data = {} #dictionary for storing truth data\n",
    "\n",
    "truth_data['E'], Ebins, (fig,ax) = get_hist(     #get binnned data for truth point\n",
    "    sample = sample,\n",
    "    measurement = 'E', #options: 'E', 'eta', 'm', 'eta+E', 'm+E' (see parameter_estimation.py for measurement assumptions)\n",
    "    bins = np.linspace(1500,7000,20+1), #bins to be used by np.histogram\n",
    "    weighted=True, #if True, counts are expected events per bin, if False counts are monte-carlo samples per bin\n",
    "    plot=True\n",
    ")\n",
    "\n",
    "\n",
    "truth_data['eta+E'], eta_E_bins, (fig,ax) = get_hist(\n",
    "    sample = sample, \n",
    "    measurement = 'eta+E', #options: 'E', 'eta', 'm', 'eta+E', 'm+E' (see parameter_estimation.py for measurement assumptions)\n",
    "    bins = [np.linspace(8,11,8+1),np.linspace(2000,6000,8+1)], #bins to be used by np.histogram\n",
    "    weighted=True, #if True, counts are expected events per bin, if False counts are monte-carlo samples per bin\n",
    "    plot=True\n",
    ")\n",
    "\n",
    "if True: np.save(f'DarkPhoton-Truth',np.array([truth_data],dtype='object'))"
   ]
  },
  {
   "cell_type": "markdown",
   "id": "5c118eac-50be-4322-ba82-e4e02f67fe9c",
   "metadata": {},
   "source": [
    "### Define Test Model and Parameter Scan"
   ]
  },
  {
   "cell_type": "code",
   "execution_count": 6,
   "id": "a4cd35fb-d4e0-4990-aa88-4bf4253f12e1",
   "metadata": {},
   "outputs": [],
   "source": [
    "nevent = int(1e5)     #number of event samples for test points\n",
    "\n",
    "nexp = 200            #number of pseudo-experiments to generate\n",
    "\n",
    "llp = 'U(1)B-L'   #llp model ('DarkPhoton' or 'U(1)B-L')\n",
    "\n",
    "#mass and couplings for parameter scan\n",
    "#masses, couplings = np.array([mass]),  np.unique(np.append(np.logspace(-6, -5,20),coupling))\n",
    "masses, couplings = np.unique(np.append(np.linspace(0.04,0.06,10),mass)),  np.unique(np.append(np.logspace(-6, -5,20),coupling))\n",
    "\n",
    "foresee = init_llp(energy=energy,llp =llp)\n",
    "\n",
    "foresee.set_detector(distance=distance, selection=selection, length=length, luminosity=luminosity, channels=channels)"
   ]
  },
  {
   "cell_type": "markdown",
   "id": "40a8561a-2b92-4f64-9054-f14579b589d4",
   "metadata": {},
   "source": [
    "### Parameter Scan (Data Generation and Binning)"
   ]
  },
  {
   "cell_type": "code",
   "execution_count": 7,
   "id": "3055ff82-18d8-4769-b0df-28ac5995fa33",
   "metadata": {},
   "outputs": [
    {
     "name": "stdout",
     "output_type": "stream",
     "text": [
      "save data to file: ../U(1)B-L/model/LLP_spectra/14TeV_111_EPOSLHC_m_0.04.npy\n",
      "save data to file: ../U(1)B-L/model/LLP_spectra/14TeV_221_EPOSLHC_m_0.04.npy\n",
      "save data to file: ../U(1)B-L/model/LLP_spectra/14TeV_Brem_p.pt<1_m_0.04.npy\n",
      "save data to file: ../U(1)B-L/model/LLP_spectra/14TeV_111_EPOSLHC_m_0.042222222222222223.npy\n",
      "save data to file: ../U(1)B-L/model/LLP_spectra/14TeV_221_EPOSLHC_m_0.042222222222222223.npy\n",
      "save data to file: ../U(1)B-L/model/LLP_spectra/14TeV_Brem_p.pt<1_m_0.042222222222222223.npy\n",
      "save data to file: ../U(1)B-L/model/LLP_spectra/14TeV_111_EPOSLHC_m_0.044444444444444446.npy\n",
      "save data to file: ../U(1)B-L/model/LLP_spectra/14TeV_221_EPOSLHC_m_0.044444444444444446.npy\n",
      "save data to file: ../U(1)B-L/model/LLP_spectra/14TeV_Brem_p.pt<1_m_0.044444444444444446.npy\n",
      "save data to file: ../U(1)B-L/model/LLP_spectra/14TeV_111_EPOSLHC_m_0.04666666666666667.npy\n",
      "save data to file: ../U(1)B-L/model/LLP_spectra/14TeV_221_EPOSLHC_m_0.04666666666666667.npy\n",
      "save data to file: ../U(1)B-L/model/LLP_spectra/14TeV_Brem_p.pt<1_m_0.04666666666666667.npy\n",
      "save data to file: ../U(1)B-L/model/LLP_spectra/14TeV_111_EPOSLHC_m_0.048888888888888885.npy\n",
      "save data to file: ../U(1)B-L/model/LLP_spectra/14TeV_221_EPOSLHC_m_0.048888888888888885.npy\n",
      "save data to file: ../U(1)B-L/model/LLP_spectra/14TeV_Brem_p.pt<1_m_0.048888888888888885.npy\n",
      "save data to file: ../U(1)B-L/model/LLP_spectra/14TeV_111_EPOSLHC_m_0.05.npy\n",
      "save data to file: ../U(1)B-L/model/LLP_spectra/14TeV_221_EPOSLHC_m_0.05.npy\n",
      "save data to file: ../U(1)B-L/model/LLP_spectra/14TeV_Brem_p.pt<1_m_0.05.npy\n",
      "save data to file: ../U(1)B-L/model/LLP_spectra/14TeV_111_EPOSLHC_m_0.05111111111111111.npy\n",
      "save data to file: ../U(1)B-L/model/LLP_spectra/14TeV_221_EPOSLHC_m_0.05111111111111111.npy\n",
      "save data to file: ../U(1)B-L/model/LLP_spectra/14TeV_Brem_p.pt<1_m_0.05111111111111111.npy\n",
      "save data to file: ../U(1)B-L/model/LLP_spectra/14TeV_111_EPOSLHC_m_0.05333333333333333.npy\n",
      "save data to file: ../U(1)B-L/model/LLP_spectra/14TeV_221_EPOSLHC_m_0.05333333333333333.npy\n",
      "save data to file: ../U(1)B-L/model/LLP_spectra/14TeV_Brem_p.pt<1_m_0.05333333333333333.npy\n",
      "save data to file: ../U(1)B-L/model/LLP_spectra/14TeV_111_EPOSLHC_m_0.05555555555555555.npy\n",
      "save data to file: ../U(1)B-L/model/LLP_spectra/14TeV_221_EPOSLHC_m_0.05555555555555555.npy\n",
      "save data to file: ../U(1)B-L/model/LLP_spectra/14TeV_Brem_p.pt<1_m_0.05555555555555555.npy\n",
      "save data to file: ../U(1)B-L/model/LLP_spectra/14TeV_111_EPOSLHC_m_0.057777777777777775.npy\n",
      "save data to file: ../U(1)B-L/model/LLP_spectra/14TeV_221_EPOSLHC_m_0.057777777777777775.npy\n",
      "save data to file: ../U(1)B-L/model/LLP_spectra/14TeV_Brem_p.pt<1_m_0.057777777777777775.npy\n",
      "save data to file: ../U(1)B-L/model/LLP_spectra/14TeV_111_EPOSLHC_m_0.06.npy\n",
      "save data to file: ../U(1)B-L/model/LLP_spectra/14TeV_221_EPOSLHC_m_0.06.npy\n",
      "save data to file: ../U(1)B-L/model/LLP_spectra/14TeV_Brem_p.pt<1_m_0.06.npy\n"
     ]
    },
    {
     "name": "stderr",
     "output_type": "stream",
     "text": [
      "100%|████████████████████████████████████████| 11/11 [1:29:10<00:00, 486.44s/it]"
     ]
    },
    {
     "name": "stdout",
     "output_type": "stream",
     "text": [
      "CPU times: user 1h 28min 9s, sys: 42.2 s, total: 1h 28min 51s\n",
      "Wall time: 1h 29min 29s\n"
     ]
    },
    {
     "name": "stderr",
     "output_type": "stream",
     "text": [
      "\n"
     ]
    }
   ],
   "source": [
    "%%time\n",
    "\n",
    "for m in masses: foresee.get_llp_spectrum(mass=m, coupling=1, do_plot=False) \n",
    "\n",
    "scan = np.empty((len(masses),len(couplings)),dtype='object') #Load with np.load(f'scan.npy',allow_pickle=True) alternatively\n",
    "\n",
    "\n",
    "#scan over mass and couplings\n",
    "for im,m in enumerate(tqdm(masses)):\n",
    "        \n",
    "    for ieps,eps in enumerate(couplings):\n",
    "\n",
    "        test_data = {}\n",
    "        \n",
    "        _, _, _, _, weights = foresee.get_events(\n",
    "            mass=m, \n",
    "            energy=energy, \n",
    "            couplings = [eps], \n",
    "            nsample=1, modes=None\n",
    "        )\n",
    "        \n",
    "        if sum(weights[0].T[0]) != 0.0:\n",
    "        \n",
    "            _, weights, sample = foresee.write_events(     #get samples of llp events\n",
    "                mass = m, \n",
    "                coupling = eps, \n",
    "                energy = energy,\n",
    "                nsample = 10,\n",
    "                numberevent = nevent, \n",
    "                return_data = True,\n",
    "            )\n",
    "\n",
    "        test_data['E'], _ = get_hist( #get binnned data for truth point\n",
    "            sample = sample,\n",
    "            measurement = 'E',\n",
    "            bins = Ebins,\n",
    "        )\n",
    "\n",
    "        test_data['eta+E'], _ = get_hist(\n",
    "            sample = sample,\n",
    "            measurement = 'eta+E',\n",
    "            bins = eta_E_bins,\n",
    "        )\n",
    "\n",
    "        scan[im,ieps] = test_data \n",
    "\n",
    "np.save(f'scan-DarkPhoton_B-L',scan)"
   ]
  },
  {
   "cell_type": "code",
   "execution_count": 10,
   "id": "28a8154b-b91e-45d4-95ab-a1cbbe92a7db",
   "metadata": {},
   "outputs": [
    {
     "name": "stderr",
     "output_type": "stream",
     "text": [
      "100%|███████████████████████████████████████████| 11/11 [00:06<00:00,  1.82it/s]\n"
     ]
    },
    {
     "name": "stdout",
     "output_type": "stream",
     "text": [
      "\n",
      "Best fit chi2: m = 40.00 eps = 6.16e-06:\t\t458\n",
      "\n",
      " 1 sigma: 474.0\n",
      " 2 sigma: 536.9\n",
      " 3 sigma: 609.5\n",
      "\n",
      "\n"
     ]
    },
    {
     "name": "stderr",
     "output_type": "stream",
     "text": [
      "100%|████████████████████████████████████████| 11/11 [00:00<00:00, 10250.47it/s]"
     ]
    },
    {
     "name": "stdout",
     "output_type": "stream",
     "text": [
      "m = 40.00 eps = 1.00e-06:\t\tinf\n",
      "m = 40.00 eps = 1.13e-06:\t\tinf\n",
      "m = 40.00 eps = 1.27e-06:\t\t4997\n",
      "m = 40.00 eps = 1.44e-06:\t\tinf\n",
      "m = 40.00 eps = 1.62e-06:\t\tinf\n",
      "m = 40.00 eps = 1.83e-06:\t\t3340\n",
      "m = 40.00 eps = 2.07e-06:\t\t3162\n",
      "m = 40.00 eps = 2.34e-06:\t\t3070\n",
      "m = 40.00 eps = 2.64e-06:\t\t3009\n",
      "m = 40.00 eps = 2.98e-06:\t\t3172\n",
      "m = 40.00 eps = 3.36e-06:\t\t3209\n",
      "m = 40.00 eps = 3.79e-06:\t\t2776\n",
      "m = 40.00 eps = 4.28e-06:\t\t2121\n",
      "m = 40.00 eps = 4.83e-06:\t\t1250\n",
      "m = 40.00 eps = 5.46e-06:\t\t454\n",
      "m = 40.00 eps = 6.16e-06:\t\t0\n",
      "m = 40.00 eps = 6.95e-06:\t\t209\n",
      "m = 40.00 eps = 7.85e-06:\t\t1162\n",
      "m = 40.00 eps = 8.86e-06:\t\t2978\n",
      "m = 40.00 eps = 1.00e-05:\t\t5764\n",
      "m = 40.00 eps = 3.00e-05:\t\tinf\n",
      "m = 42.22 eps = 1.00e-06:\t\tinf\n",
      "m = 42.22 eps = 1.13e-06:\t\tinf\n",
      "m = 42.22 eps = 1.27e-06:\t\tinf\n",
      "m = 42.22 eps = 1.44e-06:\t\t4083\n",
      "m = 42.22 eps = 1.62e-06:\t\t3859\n",
      "m = 42.22 eps = 1.83e-06:\t\tinf\n",
      "m = 42.22 eps = 2.07e-06:\t\t3050\n",
      "m = 42.22 eps = 2.34e-06:\t\t3093\n",
      "m = 42.22 eps = 2.64e-06:\t\t3279\n",
      "m = 42.22 eps = 2.98e-06:\t\t3235\n",
      "m = 42.22 eps = 3.36e-06:\t\t3085\n",
      "m = 42.22 eps = 3.79e-06:\t\t2679\n",
      "m = 42.22 eps = 4.28e-06:\t\t1826\n",
      "m = 42.22 eps = 4.83e-06:\t\t939\n",
      "m = 42.22 eps = 5.46e-06:\t\t251\n",
      "m = 42.22 eps = 6.16e-06:\t\t69\n",
      "m = 42.22 eps = 6.95e-06:\t\t616\n",
      "m = 42.22 eps = 7.85e-06:\t\t1934\n",
      "m = 42.22 eps = 8.86e-06:\t\t4144\n",
      "m = 42.22 eps = 1.00e-05:\t\t7386\n",
      "m = 42.22 eps = 3.00e-05:\t\tinf\n",
      "m = 44.44 eps = 1.00e-06:\t\tinf\n",
      "m = 44.44 eps = 1.13e-06:\t\tinf\n",
      "m = 44.44 eps = 1.27e-06:\t\tinf\n",
      "m = 44.44 eps = 1.44e-06:\t\t3984\n",
      "m = 44.44 eps = 1.62e-06:\t\t3959\n",
      "m = 44.44 eps = 1.83e-06:\t\t3429\n",
      "m = 44.44 eps = 2.07e-06:\t\t2978\n",
      "m = 44.44 eps = 2.34e-06:\t\t2794\n",
      "m = 44.44 eps = 2.64e-06:\t\t2635\n",
      "m = 44.44 eps = 2.98e-06:\t\t2464\n",
      "m = 44.44 eps = 3.36e-06:\t\t2225\n",
      "m = 44.44 eps = 3.79e-06:\t\t1657\n",
      "m = 44.44 eps = 4.28e-06:\t\t1003\n",
      "m = 44.44 eps = 4.83e-06:\t\t419\n",
      "m = 44.44 eps = 5.46e-06:\t\t154\n",
      "m = 44.44 eps = 6.16e-06:\t\t461\n",
      "m = 44.44 eps = 6.95e-06:\t\t1455\n",
      "m = 44.44 eps = 7.85e-06:\t\t3201\n",
      "m = 44.44 eps = 8.86e-06:\t\t5871\n",
      "m = 44.44 eps = 1.00e-05:\t\tinf\n",
      "m = 44.44 eps = 3.00e-05:\t\tinf\n",
      "m = 46.67 eps = 1.00e-06:\t\tinf\n",
      "m = 46.67 eps = 1.13e-06:\t\tinf\n",
      "m = 46.67 eps = 1.27e-06:\t\t4856\n",
      "m = 46.67 eps = 1.44e-06:\t\t4080\n",
      "m = 46.67 eps = 1.62e-06:\t\tinf\n",
      "m = 46.67 eps = 1.83e-06:\t\t3309\n",
      "m = 46.67 eps = 2.07e-06:\t\t2942\n",
      "m = 46.67 eps = 2.34e-06:\t\t2806\n",
      "m = 46.67 eps = 2.64e-06:\t\t2528\n",
      "m = 46.67 eps = 2.98e-06:\t\t2248\n",
      "m = 46.67 eps = 3.36e-06:\t\t1871\n",
      "m = 46.67 eps = 3.79e-06:\t\t1307\n",
      "m = 46.67 eps = 4.28e-06:\t\t749\n",
      "m = 46.67 eps = 4.83e-06:\t\t394\n",
      "m = 46.67 eps = 5.46e-06:\t\t459\n",
      "m = 46.67 eps = 6.16e-06:\t\t1120\n",
      "m = 46.67 eps = 6.95e-06:\t\t2486\n",
      "m = 46.67 eps = 7.85e-06:\t\t4609\n",
      "m = 46.67 eps = 8.86e-06:\t\t7718\n",
      "m = 46.67 eps = 1.00e-05:\t\tinf\n",
      "m = 46.67 eps = 3.00e-05:\t\tinf\n",
      "m = 48.89 eps = 1.00e-06:\t\tinf\n",
      "m = 48.89 eps = 1.13e-06:\t\t5517\n",
      "m = 48.89 eps = 1.27e-06:\t\tinf\n",
      "m = 48.89 eps = 1.44e-06:\t\tinf\n",
      "m = 48.89 eps = 1.62e-06:\t\t3556\n",
      "m = 48.89 eps = 1.83e-06:\t\t3340\n",
      "m = 48.89 eps = 2.07e-06:\t\t2903\n",
      "m = 48.89 eps = 2.34e-06:\t\t2668\n",
      "m = 48.89 eps = 2.64e-06:\t\t2443\n",
      "m = 48.89 eps = 2.98e-06:\t\t2150\n",
      "m = 48.89 eps = 3.36e-06:\t\t1650\n",
      "m = 48.89 eps = 3.79e-06:\t\t1125\n",
      "m = 48.89 eps = 4.28e-06:\t\t659\n",
      "m = 48.89 eps = 4.83e-06:\t\t472\n",
      "m = 48.89 eps = 5.46e-06:\t\t803\n",
      "m = 48.89 eps = 6.16e-06:\t\t1743\n",
      "m = 48.89 eps = 6.95e-06:\t\t3421\n",
      "m = 48.89 eps = 7.85e-06:\t\t5918\n",
      "m = 48.89 eps = 8.86e-06:\t\t9444\n",
      "m = 48.89 eps = 1.00e-05:\t\tinf\n",
      "m = 48.89 eps = 3.00e-05:\t\tinf\n",
      "m = 50.00 eps = 1.00e-06:\t\tinf\n",
      "m = 50.00 eps = 1.13e-06:\t\tinf\n",
      "m = 50.00 eps = 1.27e-06:\t\t4725\n",
      "m = 50.00 eps = 1.44e-06:\t\t4035\n",
      "m = 50.00 eps = 1.62e-06:\t\t3354\n",
      "m = 50.00 eps = 1.83e-06:\t\t3160\n",
      "m = 50.00 eps = 2.07e-06:\t\t2796\n",
      "m = 50.00 eps = 2.34e-06:\t\t2551\n",
      "m = 50.00 eps = 2.64e-06:\t\t2269\n",
      "m = 50.00 eps = 2.98e-06:\t\t1935\n",
      "m = 50.00 eps = 3.36e-06:\t\t1481\n",
      "m = 50.00 eps = 3.79e-06:\t\t942\n",
      "m = 50.00 eps = 4.28e-06:\t\t552\n",
      "m = 50.00 eps = 4.83e-06:\t\t466\n",
      "m = 50.00 eps = 5.46e-06:\t\t903\n",
      "m = 50.00 eps = 6.16e-06:\t\t1991\n",
      "m = 50.00 eps = 6.95e-06:\t\t3793\n",
      "m = 50.00 eps = 7.85e-06:\t\t6465\n",
      "m = 50.00 eps = 8.86e-06:\t\tinf\n",
      "m = 50.00 eps = 1.00e-05:\t\tinf\n",
      "m = 50.00 eps = 3.00e-05:\t\tinf\n",
      "m = 51.11 eps = 1.00e-06:\t\t6250\n",
      "m = 51.11 eps = 1.13e-06:\t\t5036\n",
      "m = 51.11 eps = 1.27e-06:\t\t4473\n",
      "m = 51.11 eps = 1.44e-06:\t\t3876\n",
      "m = 51.11 eps = 1.62e-06:\t\t3317\n",
      "m = 51.11 eps = 1.83e-06:\t\t2935\n",
      "m = 51.11 eps = 2.07e-06:\t\t2680\n",
      "m = 51.11 eps = 2.34e-06:\t\t2376\n",
      "m = 51.11 eps = 2.64e-06:\t\t2057\n",
      "m = 51.11 eps = 2.98e-06:\t\t1732\n",
      "m = 51.11 eps = 3.36e-06:\t\t1232\n",
      "m = 51.11 eps = 3.79e-06:\t\t794\n",
      "m = 51.11 eps = 4.28e-06:\t\t446\n",
      "m = 51.11 eps = 4.83e-06:\t\t465\n",
      "m = 51.11 eps = 5.46e-06:\t\t1012\n",
      "m = 51.11 eps = 6.16e-06:\t\t2192\n",
      "m = 51.11 eps = 6.95e-06:\t\t4110\n",
      "m = 51.11 eps = 7.85e-06:\t\t6989\n",
      "m = 51.11 eps = 8.86e-06:\t\tinf\n",
      "m = 51.11 eps = 1.00e-05:\t\tinf\n",
      "m = 51.11 eps = 3.00e-05:\t\tinf\n",
      "m = 53.33 eps = 1.00e-06:\t\tinf\n",
      "m = 53.33 eps = 1.13e-06:\t\tinf\n",
      "m = 53.33 eps = 1.27e-06:\t\tinf\n",
      "m = 53.33 eps = 1.44e-06:\t\t3813\n",
      "m = 53.33 eps = 1.62e-06:\t\tinf\n",
      "m = 53.33 eps = 1.83e-06:\t\t3102\n",
      "m = 53.33 eps = 2.07e-06:\t\t2668\n",
      "m = 53.33 eps = 2.34e-06:\t\t2481\n",
      "m = 53.33 eps = 2.64e-06:\t\t2121\n",
      "m = 53.33 eps = 2.98e-06:\t\t1764\n",
      "m = 53.33 eps = 3.36e-06:\t\t1241\n",
      "m = 53.33 eps = 3.79e-06:\t\t800\n",
      "m = 53.33 eps = 4.28e-06:\t\t542\n",
      "m = 53.33 eps = 4.83e-06:\t\t728\n",
      "m = 53.33 eps = 5.46e-06:\t\t1464\n",
      "m = 53.33 eps = 6.16e-06:\t\t2911\n",
      "m = 53.33 eps = 6.95e-06:\t\t5122\n",
      "m = 53.33 eps = 7.85e-06:\t\t8258\n",
      "m = 53.33 eps = 8.86e-06:\t\tinf\n",
      "m = 53.33 eps = 1.00e-05:\t\tinf\n",
      "m = 53.33 eps = 3.00e-05:\t\tinf\n",
      "m = 55.56 eps = 1.00e-06:\t\tinf\n",
      "m = 55.56 eps = 1.13e-06:\t\t5061\n",
      "m = 55.56 eps = 1.27e-06:\t\t4404\n",
      "m = 55.56 eps = 1.44e-06:\t\t3953\n",
      "m = 55.56 eps = 1.62e-06:\t\t3354\n",
      "m = 55.56 eps = 1.83e-06:\t\t2885\n",
      "m = 55.56 eps = 2.07e-06:\t\t2550\n",
      "m = 55.56 eps = 2.34e-06:\t\t2301\n",
      "m = 55.56 eps = 2.64e-06:\t\t1931\n",
      "m = 55.56 eps = 2.98e-06:\t\t1489\n",
      "m = 55.56 eps = 3.36e-06:\t\t1087\n",
      "m = 55.56 eps = 3.79e-06:\t\t744\n",
      "m = 55.56 eps = 4.28e-06:\t\t682\n",
      "m = 55.56 eps = 4.83e-06:\t\t1073\n",
      "m = 55.56 eps = 5.46e-06:\t\t2079\n",
      "m = 55.56 eps = 6.16e-06:\t\t3754\n",
      "m = 55.56 eps = 6.95e-06:\t\t6214\n",
      "m = 55.56 eps = 7.85e-06:\t\t9737\n",
      "m = 55.56 eps = 8.86e-06:\t\tinf\n",
      "m = 55.56 eps = 1.00e-05:\t\tinf\n",
      "m = 55.56 eps = 3.00e-05:\t\tinf\n",
      "m = 57.78 eps = 1.00e-06:\t\tinf\n",
      "m = 57.78 eps = 1.13e-06:\t\t4759\n",
      "m = 57.78 eps = 1.27e-06:\t\t4331\n",
      "m = 57.78 eps = 1.44e-06:\t\t3745\n",
      "m = 57.78 eps = 1.62e-06:\t\t3197\n",
      "m = 57.78 eps = 1.83e-06:\t\t2810\n",
      "m = 57.78 eps = 2.07e-06:\t\t2447\n",
      "m = 57.78 eps = 2.34e-06:\t\t2138\n",
      "m = 57.78 eps = 2.64e-06:\t\t1752\n",
      "m = 57.78 eps = 2.98e-06:\t\t1343\n",
      "m = 57.78 eps = 3.36e-06:\t\t948\n",
      "m = 57.78 eps = 3.79e-06:\t\t727\n",
      "m = 57.78 eps = 4.28e-06:\t\t850\n",
      "m = 57.78 eps = 4.83e-06:\t\t1443\n",
      "m = 57.78 eps = 5.46e-06:\t\t2635\n",
      "m = 57.78 eps = 6.16e-06:\t\t4596\n",
      "m = 57.78 eps = 6.95e-06:\t\t7336\n",
      "m = 57.78 eps = 7.85e-06:\t\tinf\n",
      "m = 57.78 eps = 8.86e-06:\t\tinf\n",
      "m = 57.78 eps = 1.00e-05:\t\tinf\n",
      "m = 57.78 eps = 3.00e-05:\t\tinf\n",
      "m = 60.00 eps = 1.00e-06:\t\t5658\n",
      "m = 60.00 eps = 1.13e-06:\t\tinf\n",
      "m = 60.00 eps = 1.27e-06:\t\t4261\n",
      "m = 60.00 eps = 1.44e-06:\t\t3698\n",
      "m = 60.00 eps = 1.62e-06:\t\t3115\n",
      "m = 60.00 eps = 1.83e-06:\t\t2749\n",
      "m = 60.00 eps = 2.07e-06:\t\t2391\n",
      "m = 60.00 eps = 2.34e-06:\t\t2023\n",
      "m = 60.00 eps = 2.64e-06:\t\t1652\n",
      "m = 60.00 eps = 2.98e-06:\t\t1243\n",
      "m = 60.00 eps = 3.36e-06:\t\t905\n",
      "m = 60.00 eps = 3.79e-06:\t\t793\n",
      "m = 60.00 eps = 4.28e-06:\t\t1063\n",
      "m = 60.00 eps = 4.83e-06:\t\t1853\n",
      "m = 60.00 eps = 5.46e-06:\t\t3295\n",
      "m = 60.00 eps = 6.16e-06:\t\t5499\n",
      "m = 60.00 eps = 6.95e-06:\t\t8595\n",
      "m = 60.00 eps = 7.85e-06:\t\tinf\n",
      "m = 60.00 eps = 8.86e-06:\t\tinf\n",
      "m = 60.00 eps = 1.00e-05:\t\tinf\n",
      "m = 60.00 eps = 3.00e-05:\t\tinf\n",
      "CPU times: user 6.05 s, sys: 145 ms, total: 6.19 s\n",
      "Wall time: 6.06 s\n"
     ]
    },
    {
     "name": "stderr",
     "output_type": "stream",
     "text": [
      "\n"
     ]
    },
    {
     "data": {
      "text/plain": [
       "<matplotlib.collections.PathCollection at 0x7f97d7322190>"
      ]
     },
     "execution_count": 10,
     "metadata": {},
     "output_type": "execute_result"
    },
    {
     "data": {
      "image/png": "[encoded data removed]",
      "text/plain": [
       "<Figure size 432x288 with 1 Axes>"
      ]
     },
     "metadata": {
      "needs_background": "light"
     },
     "output_type": "display_data"
    }
   ],
   "source": [
    "%%time\n",
    "\n",
    "scan_chi, (fig,ax) = get_chi2( #get chi2 contour and output results\n",
    "    masses = masses*1e3,\n",
    "    couplings = couplings,\n",
    "    scan = scan,\n",
    "    truth_data = truth_data,\n",
    "    measurements = ['E'], #options: 'E', 'eta', 'm', 'eta+E', 'm+E' (see parameter_estimation.py for measurement assumptions)\n",
    "    nexp = nexp,\n",
    "    printing = True,\n",
    "    plot=True,\n",
    "    xlims = (40,60),\n",
    "    ylims = (1e-6,1e-5)\n",
    ")\n",
    "\n",
    "ax.set(yscale='log')\n",
    "\n",
    "#plot scan grid\n",
    "xv, yv = np.meshgrid(masses*1e3,couplings)\n",
    "ax.scatter(xv,yv,marker='x',color='blue',s=2)"
   ]
  },
  {
   "cell_type": "code",
   "execution_count": 11,
   "id": "03272141-1b9e-486e-be6a-d331e5915d54",
   "metadata": {
    "scrolled": true
   },
   "outputs": [],
   "source": [
    "fig.savefig('DarkPhoton_B-L.pdf')"
   ]
  }
 ],
 "metadata": {
  "kernelspec": {
   "display_name": "Python 3 (ipykernel)",
   "language": "python",
   "name": "python3"
  },
  "language_info": {
   "codemirror_mode": {
    "name": "ipython",
    "version": 3
   },
   "file_extension": ".py",
   "mimetype": "text/x-python",
   "name": "python",
   "nbconvert_exporter": "python",
   "pygments_lexer": "ipython3",
   "version": "3.9.17"
  }
 },
 "nbformat": 4,
 "nbformat_minor": 5
}
